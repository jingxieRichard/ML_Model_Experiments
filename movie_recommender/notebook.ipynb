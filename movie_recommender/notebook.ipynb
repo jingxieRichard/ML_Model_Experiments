{
 "cells": [
  {
   "cell_type": "markdown",
   "metadata": {},
   "source": [
    "Refer this blog: https://medium.com/the-owl/recommender-systems-\n",
    "\n",
    "# Step 1: Connect to Snowflake "
   ]
  },
  {
   "cell_type": "code",
   "execution_count": 7,
   "metadata": {},
   "outputs": [],
   "source": [
    "import os \n",
    "from pathlib import Path \n",
    "from dotenv import load_dotenv\n",
    "import snowflake.snowpark.functions as F \n",
    "import snowflake.snowpark.types as T \n",
    "\n",
    "from utils import build_snowflake_session\n",
    "\n",
    "\n",
    "# Build the .env full path \n",
    "env_path = Path(os.getcwd()).parent / \".env\"\n",
    "# Load the .env file \n",
    "load_dotenv(env_path) \n",
    "\n",
    "# Get connection credentials \n",
    "config_params  = {\n",
    "    \"account\": os.getenv(\"SNOWFLAKE_ACCOUNT\"),\n",
    "    \"user\": os.getenv(\"SNOWFLAKE_USER\"),\n",
    "    \"password\": os.getenv(\"SNOWFLAKE_PASSWORD\"),\n",
    "    \"role\": \"ML_MODEL_ROLE\",\n",
    "    \"warehouse\": \"ML_MODEL_WH\",\n",
    "    \"database\": \"ML_MODEL_DATABASE\",\n",
    "    \"schema\": \"MOVIE_RECSYS\",\n",
    "    }\n",
    "\n",
    "session = build_snowflake_session(config_params)\n"
   ]
  },
  {
   "cell_type": "markdown",
   "metadata": {},
   "source": [
    "# Step 1: Load the movie datasets and write them to Snowflake tables"
   ]
  },
  {
   "cell_type": "code",
   "execution_count": 8,
   "metadata": {},
   "outputs": [
    {
     "name": "stdout",
     "output_type": "stream",
     "text": [
      "StructType([StructField('MOVIE_ID', LongType(), nullable=True), StructField('TITLE', StringType(), nullable=True), StructField('CAST', StringType(), nullable=True), StructField('CREW', StringType(), nullable=True)])\n",
      "StructType([StructField('BUDGET', LongType(), nullable=True), StructField('GENRES', StringType(), nullable=True), StructField('HOMEPAGE', StringType(), nullable=True), StructField('ID', LongType(), nullable=True), StructField('KEYWORDS', StringType(), nullable=True), StructField('ORIGINAL_LANGUAGE', StringType(), nullable=True), StructField('ORIGINAL_TITLE', StringType(), nullable=True), StructField('OVERVIEW', StringType(), nullable=True), StructField('POPULARITY', DoubleType(), nullable=True), StructField('PRODUCTION_COMPANIES', StringType(), nullable=True), StructField('PRODUCTION_COUNTRIES', StringType(), nullable=True), StructField('RELEASE_DATE', StringType(), nullable=True), StructField('REVENUE', LongType(), nullable=True), StructField('RUNTIME', DoubleType(), nullable=True), StructField('SPOKEN_LANGUAGES', StringType(), nullable=True), StructField('STATUS', StringType(), nullable=True), StructField('TAGLINE', StringType(), nullable=True), StructField('TITLE', StringType(), nullable=True), StructField('VOTE_AVERAGE', DoubleType(), nullable=True), StructField('VOTE_COUNT', LongType(), nullable=True)])\n"
     ]
    }
   ],
   "source": [
    "import numpy as np \n",
    "import pandas as pd \n",
    "from snowflake.connector.pandas_tools import write_pandas\n",
    "\n",
    "credits = pd.read_csv(\"data/movie/tmdb_5000_credits.csv\")\n",
    "movies = pd.read_csv(\"data/movie/tmdb_5000_movies.csv\")\n",
    "\n",
    "session.sql(\"USE CURRENT_DATABASE()\")\n",
    "session.sql(\"USE CURRENT_SCHEMA()\")\n",
    "\n",
    "\n",
    "\n",
    "credits_df = session.create_dataframe(credits)\n",
    "# Rename columns to remove double quotes \n",
    "credits_df = (credits_df\n",
    "              .select(*[F.col(col_name).alias(col_name.strip('\"')) for col_name in credits_df.columns]))\n",
    "#.write.mode(\"overwrite\").save_as_table(\"tmdb_5000_credits\")\n",
    "movies_df = session.create_dataframe(movies)\n",
    "movies_df = (movies_df\n",
    "              .select(*[F.col(col_name).alias(col_name.strip('\"')) for col_name in movies_df.columns]))\n",
    "#.write.mode(\"overwrite\").save_as_table(\"tmdb_5000_movies\")\n",
    "\n",
    "print(credits_df.schema)\n",
    "print(movies_df.schema)"
   ]
  },
  {
   "cell_type": "code",
   "execution_count": 9,
   "metadata": {},
   "outputs": [],
   "source": [
    "# Write to Snowflake tables\n",
    "credits_df.write.mode(\"overwrite\").save_as_table(\"tmdb_5000_credits\")\n",
    "movies_df.write.mode(\"overwrite\").save_as_table(\"tmdb_5000_movies\")\n"
   ]
  },
  {
   "cell_type": "markdown",
   "metadata": {},
   "source": [
    "# Step 2: Load data again "
   ]
  },
  {
   "cell_type": "code",
   "execution_count": 10,
   "metadata": {},
   "outputs": [
    {
     "name": "stdout",
     "output_type": "stream",
     "text": [
      "---------------------------------------------------------------------------------------------------------------------------------------------------------------\n",
      "|\"ID\"    |\"TITLE\"                                   |\"CAST\"                                              |\"CREW\"                                              |\n",
      "---------------------------------------------------------------------------------------------------------------------------------------------------------------\n",
      "|19995   |Avatar                                    |[{\"cast_id\": 242, \"character\": \"Jake Sully\", \"c...  |[{\"credit_id\": \"52fe48009251416c750aca23\", \"dep...  |\n",
      "|285     |Pirates of the Caribbean: At World's End  |[{\"cast_id\": 4, \"character\": \"Captain Jack Spar...  |[{\"credit_id\": \"52fe4232c3a36847f800b579\", \"dep...  |\n",
      "|206647  |Spectre                                   |[{\"cast_id\": 1, \"character\": \"James Bond\", \"cre...  |[{\"credit_id\": \"54805967c3a36829b5002c41\", \"dep...  |\n",
      "|49026   |The Dark Knight Rises                     |[{\"cast_id\": 2, \"character\": \"Bruce Wayne / Bat...  |[{\"credit_id\": \"52fe4781c3a36847f81398c3\", \"dep...  |\n",
      "|49529   |John Carter                               |[{\"cast_id\": 5, \"character\": \"John Carter\", \"cr...  |[{\"credit_id\": \"52fe479ac3a36847f813eaa3\", \"dep...  |\n",
      "---------------------------------------------------------------------------------------------------------------------------------------------------------------\n",
      "\n",
      "--------------------------------------------------------------------------------------------------------------------------------------------------------------------------------------------------------------------------------------------------------------------------------------------------------------------------------------------------------------------------------------------------------------------------------------------------------------------------------------------------------------------------------------------------------------------------------------------------------------------------------------------------------------------\n",
      "|\"BUDGET\"   |\"GENRES\"                                            |\"HOMEPAGE\"                                    |\"ID\"    |\"KEYWORDS\"                                          |\"ORIGINAL_LANGUAGE\"  |\"ORIGINAL_TITLE\"                          |\"OVERVIEW\"                                          |\"POPULARITY\"  |\"PRODUCTION_COMPANIES\"                              |\"PRODUCTION_COUNTRIES\"                              |\"RELEASE_DATE\"  |\"REVENUE\"   |\"RUNTIME\"  |\"SPOKEN_LANGUAGES\"                                  |\"STATUS\"  |\"TAGLINE\"                                       |\"TITLE\"                                   |\"VOTE_AVERAGE\"  |\"VOTE_COUNT\"  |\n",
      "--------------------------------------------------------------------------------------------------------------------------------------------------------------------------------------------------------------------------------------------------------------------------------------------------------------------------------------------------------------------------------------------------------------------------------------------------------------------------------------------------------------------------------------------------------------------------------------------------------------------------------------------------------------------\n",
      "|237000000  |[{\"id\": 28, \"name\": \"Action\"}, {\"id\": 12, \"name...  |http://www.avatarmovie.com/                   |19995   |[{\"id\": 1463, \"name\": \"culture clash\"}, {\"id\": ...  |en                   |Avatar                                    |In the 22nd century, a paraplegic Marine is dis...  |150.437577    |[{\"name\": \"Ingenious Film Partners\", \"id\": 289}...  |[{\"iso_3166_1\": \"US\", \"name\": \"United States of...  |2009-12-10      |2787965087  |162.0      |[{\"iso_639_1\": \"en\", \"name\": \"English\"}, {\"iso_...  |Released  |Enter the World of Pandora.                     |Avatar                                    |7.2             |11800         |\n",
      "|300000000  |[{\"id\": 12, \"name\": \"Adventure\"}, {\"id\": 14, \"n...  |http://disney.go.com/disneypictures/pirates/  |285     |[{\"id\": 270, \"name\": \"ocean\"}, {\"id\": 726, \"nam...  |en                   |Pirates of the Caribbean: At World's End  |Captain Barbossa, long believed to be dead, has...  |139.082615    |[{\"name\": \"Walt Disney Pictures\", \"id\": 2}, {\"n...  |[{\"iso_3166_1\": \"US\", \"name\": \"United States of...  |2007-05-19      |961000000   |169.0      |[{\"iso_639_1\": \"en\", \"name\": \"English\"}]            |Released  |At the end of the world, the adventure begins.  |Pirates of the Caribbean: At World's End  |6.9             |4500          |\n",
      "|245000000  |[{\"id\": 28, \"name\": \"Action\"}, {\"id\": 12, \"name...  |http://www.sonypictures.com/movies/spectre/   |206647  |[{\"id\": 470, \"name\": \"spy\"}, {\"id\": 818, \"name\"...  |en                   |Spectre                                   |A cryptic message from Bond’s past sends him on...  |107.376788    |[{\"name\": \"Columbia Pictures\", \"id\": 5}, {\"name...  |[{\"iso_3166_1\": \"GB\", \"name\": \"United Kingdom\"}...  |2015-10-26      |880674609   |148.0      |[{\"iso_639_1\": \"fr\", \"name\": \"Fran\\u00e7ais\"}, ...  |Released  |A Plan No One Escapes                           |Spectre                                   |6.3             |4466          |\n",
      "|250000000  |[{\"id\": 28, \"name\": \"Action\"}, {\"id\": 80, \"name...  |http://www.thedarkknightrises.com/            |49026   |[{\"id\": 849, \"name\": \"dc comics\"}, {\"id\": 853, ...  |en                   |The Dark Knight Rises                     |Following the death of District Attorney Harvey...  |112.31295     |[{\"name\": \"Legendary Pictures\", \"id\": 923}, {\"n...  |[{\"iso_3166_1\": \"US\", \"name\": \"United States of...  |2012-07-16      |1084939099  |165.0      |[{\"iso_639_1\": \"en\", \"name\": \"English\"}]            |Released  |The Legend Ends                                 |The Dark Knight Rises                     |7.6             |9106          |\n",
      "|260000000  |[{\"id\": 28, \"name\": \"Action\"}, {\"id\": 12, \"name...  |http://movies.disney.com/john-carter          |49529   |[{\"id\": 818, \"name\": \"based on novel\"}, {\"id\": ...  |en                   |John Carter                               |John Carter is a war-weary, former military cap...  |43.926995     |[{\"name\": \"Walt Disney Pictures\", \"id\": 2}]         |[{\"iso_3166_1\": \"US\", \"name\": \"United States of...  |2012-03-07      |284139100   |132.0      |[{\"iso_639_1\": \"en\", \"name\": \"English\"}]            |Released  |Lost in our world, found in another.            |John Carter                               |6.1             |2124          |\n",
      "--------------------------------------------------------------------------------------------------------------------------------------------------------------------------------------------------------------------------------------------------------------------------------------------------------------------------------------------------------------------------------------------------------------------------------------------------------------------------------------------------------------------------------------------------------------------------------------------------------------------------------------------------------------------\n",
      "\n"
     ]
    },
    {
     "data": {
      "text/plain": [
       "(4803, 4803, 4803)"
      ]
     },
     "execution_count": 10,
     "metadata": {},
     "output_type": "execute_result"
    }
   ],
   "source": [
    "import snowflake.snowpark.functions as F \n",
    "\n",
    "credits_df = (session\n",
    "              .table(\"TMDB_5000_CREDITS\")\n",
    "              .with_column_renamed(\"movie_id\", \"id\"))\n",
    "credits_df.show(5)\n",
    "\n",
    "# Merge credits and movies table \n",
    "movies_df = session.table(\"tmdb_5000_movies\")\n",
    "movies_df.show(5)\n",
    "\n",
    "movies_credits_df = (movies_df.join(credits_df, \"id\"))\n",
    "\n",
    "credits_df.count(), movies_df.count(), movies_credits_df.count()"
   ]
  },
  {
   "cell_type": "markdown",
   "metadata": {},
   "source": [
    "# Popularity Based Filtering \n",
    "\n",
    "As the name suggets, Popularity based recommendation system works with the trend. It basically uses the items which are in trend right now. For example, if any product which is usually bought by every new user then there are chances that it may suggest that items to the user who just signed up. \n",
    "\n",
    "## IMDB weighted avg formula:\n",
    "\n",
    "Weighted Rating(WR)=[vR/(v+m)]+[mC/(v+m)]\n",
    "\n",
    "where,\n",
    "- v is the number of votes for the movie;\n",
    "- m is the minimum votes required to be listed in the chart;\n",
    "- R is the average rating of the movie; and\n",
    "- C is the mean vote across the whole report.\n",
    "\n",
    "Now we find the values of v,m,R,C.\n"
   ]
  },
  {
   "cell_type": "code",
   "execution_count": 87,
   "metadata": {},
   "outputs": [
    {
     "name": "stdout",
     "output_type": "stream",
     "text": [
      "6.092171559442016\n",
      "1843.1187499999985\n"
     ]
    },
    {
     "data": {
      "text/plain": [
       "480"
      ]
     },
     "execution_count": 87,
     "metadata": {},
     "output_type": "execute_result"
    }
   ],
   "source": [
    "C = movies_credits_df.select(F.avg(\"vote_average\").alias(\"mean_value\")).collect()[0][0]\n",
    "print(C)\n",
    "m = movies_credits_df.select(F.approx_percentile(\"vote_count\", 0.9).alias(\"quantile_90\")).collect()[0][0]\n",
    "print(m)\n",
    "q_movies_df = movies_credits_df.where(F.col(\"vote_count\") >= m)\n",
    "q_movies_df.count()"
   ]
  },
  {
   "cell_type": "markdown",
   "metadata": {},
   "source": [
    "Here we used 90th percentile as our cutoff. In other words, for a movie to feature in the charts, it must have more votes thatn at least 90% of the movies in the list. \n",
    "\n",
    "We see that there are 480 movies which qualify to be in this list. Now, we need to calculate our metric for each qualified movie. We will define a function, wieghted_rating() and define a new feature score, of which we will calculate the value by applying this function to our DataFrame of qualified movies: "
   ]
  },
  {
   "cell_type": "code",
   "execution_count": 104,
   "metadata": {},
   "outputs": [
    {
     "data": {
      "text/plain": [
       "StructType([StructField('ID', LongType(), nullable=True), StructField('BUDGET', LongType(), nullable=True), StructField('GENRES', StringType(), nullable=True), StructField('HOMEPAGE', StringType(), nullable=True), StructField('KEYWORDS', StringType(), nullable=True), StructField('ORIGINAL_LANGUAGE', StringType(), nullable=True), StructField('ORIGINAL_TITLE', StringType(), nullable=True), StructField('OVERVIEW', StringType(), nullable=True), StructField('POPULARITY', DoubleType(), nullable=True), StructField('PRODUCTION_COMPANIES', StringType(), nullable=True), StructField('PRODUCTION_COUNTRIES', StringType(), nullable=True), StructField('RELEASE_DATE', StringType(), nullable=True), StructField('REVENUE', LongType(), nullable=True), StructField('RUNTIME', DoubleType(), nullable=True), StructField('SPOKEN_LANGUAGES', StringType(), nullable=True), StructField('STATUS', StringType(), nullable=True), StructField('TAGLINE', StringType(), nullable=True), StructField('\"l_cdxn_TITLE\"', StringType(), nullable=True), StructField('VOTE_AVERAGE', DoubleType(), nullable=True), StructField('VOTE_COUNT', LongType(), nullable=True), StructField('\"r_0h2e_TITLE\"', StringType(), nullable=True), StructField('CAST', StringType(), nullable=True), StructField('CREW', StringType(), nullable=True)])"
      ]
     },
     "execution_count": 104,
     "metadata": {},
     "output_type": "execute_result"
    }
   ],
   "source": [
    "movies_credits_df.schema"
   ]
  },
  {
   "cell_type": "code",
   "execution_count": 115,
   "metadata": {},
   "outputs": [
    {
     "name": "stdout",
     "output_type": "stream",
     "text": [
      "----------------------------------------------------------------------------------------------------------\n",
      "|\"ORIGINAL_TITLE\"                                   |\"VOTE_COUNT\"  |\"VOTE_AVERAGE\"  |\"SCORE\"             |\n",
      "----------------------------------------------------------------------------------------------------------\n",
      "|The Shawshank Redemption                           |8205          |8.5             |8.058333867662972   |\n",
      "|Fight Club                                         |9413          |8.3             |7.938481959372038   |\n",
      "|The Dark Knight                                    |12002         |8.2             |7.919397269844604   |\n",
      "|Pulp Fiction                                       |8428          |8.3             |7.903812389417106   |\n",
      "|Inception                                          |13752         |8.1             |7.862703554560899   |\n",
      "|The Godfather                                      |5893          |8.4             |7.850163317286762   |\n",
      "|Interstellar                                       |10867         |8.1             |7.808840938596607   |\n",
      "|Forrest Gump                                       |7927          |8.2             |7.802361217915015   |\n",
      "|The Lord of the Rings: The Return of the King      |8064          |8.1             |7.7264639256922525  |\n",
      "|The Empire Strikes Back                            |5879          |8.2             |7.696902566983228   |\n",
      "|The Lord of the Rings: The Fellowship of the Ring  |8705          |8.0             |7.666636823691839   |\n",
      "|Star Wars                                          |6624          |8.1             |7.662936772845464   |\n",
      "|Schindler's List                                   |4329          |8.3             |7.640698038971516   |\n",
      "|Whiplash                                           |4254          |8.3             |7.632588036672948   |\n",
      "|The Lord of the Rings: The Two Towers              |7487          |8.0             |7.6231179404253915  |\n",
      "----------------------------------------------------------------------------------------------------------\n",
      "\n"
     ]
    }
   ],
   "source": [
    "import snowflake.snowpark.types as T \n",
    "\n",
    "\n",
    "\n",
    "C = 6.092171559442016\n",
    "M =1843.1187499999985\n",
    "\n",
    "\n",
    "def weighted_rating(vote_count: int, vote_average: float) -> float: \n",
    "    v = vote_count\n",
    "    R = vote_average\n",
    "    return (v/(v+M) * R) + (M/(M+v) * C)\n",
    "\n",
    "# Important: Register the UDF explicitly with the session \n",
    "weighted_rating_udf = session.udf.register(weighted_rating, \n",
    "                                           return_type=T.FloatType(), \n",
    "                                           input_types=[T.DoubleType(), T.FloatType()])\n",
    "# Apply the UDF to the DataFrame\n",
    "q_movies_df = (q_movies_df\n",
    "               .with_column(\"score\", weighted_rating_udf(F.col(\"vote_count\"), F.col(\"vote_average\"))))\n",
    "\n",
    "\n",
    "# Sort movies based on score calculated above \n",
    "q_movies_df = q_movies_df.order_by(F.col(\"score\").desc())\n",
    "# show top 15 movies \n",
    "q_movies_df.select(\"original_title\", \"vote_count\", \"vote_average\", \"score\").show(15)\n"
   ]
  },
  {
   "cell_type": "markdown",
   "metadata": {},
   "source": [
    "# Visualization \n",
    "\n",
    "Now we visualize the top 6 movies according to Popularity based recommendation system. "
   ]
  },
  {
   "cell_type": "code",
   "execution_count": 123,
   "metadata": {},
   "outputs": [
    {
     "name": "stdout",
     "output_type": "stream",
     "text": [
      "            ORIGINAL_TITLE  POPULARITY\n",
      "0                  Minions  875.581305\n",
      "1             Interstellar  724.247784\n",
      "2                 Deadpool  514.569956\n",
      "3  Guardians of the Galaxy  481.098624\n",
      "4       Mad Max: Fury Road  434.278564\n",
      "5           Jurassic World  418.708552\n"
     ]
    },
    {
     "data": {
      "image/png": "[encoded data removed]",
      "text/plain": [
       "<Figure size 1200x400 with 1 Axes>"
      ]
     },
     "metadata": {},
     "output_type": "display_data"
    }
   ],
   "source": [
    "import matplotlib.pyplot as plt \n",
    "\n",
    "popularity_df = movies_credits_df.order_by(F.col(\"popularity\").desc())\n",
    "\n",
    "# Select the top 6 rows from the DataFrame, skipping offset rows from the begining \n",
    "selected_pd = popularity_df.select(\"original_title\", \"popularity\").limit(6).to_pandas()\n",
    "\n",
    "print(selected_pd)\n",
    "\n",
    "plt.figure(figsize=(12, 4))\n",
    "\n",
    "plt.barh(selected_pd[\"ORIGINAL_TITLE\"], selected_pd[\"POPULARITY\"], align=\"center\", color=\"skyblue\")\n",
    "plt.gca().invert_yaxis()\n",
    "plt.xlabel(\"Popularity\")\n",
    "plt.title(\"Popular Movies\")\n",
    "\n",
    "plt.show()\n",
    "\n"
   ]
  },
  {
   "attachments": {
    "Screenshot 2024-11-19 at 11.13.23.png": {
     "image/png": "[encoded data removed]"
    }
   },
   "cell_type": "markdown",
   "metadata": {},
   "source": [
    "# Content Based Filtering \n",
    "\n",
    "In this recommender system the content of the movie (overview, cast, crew, keyword, tagline etc) is used to find its similarity with other movies. Then the movies that are most likely to be similar are recommended. \n",
    "\n",
    "## Plot description based Recommender: \n",
    "We will compute pairwise similarity scores for all movies based on their plot descriptions and recommend movies based on that similarity score. The plot description is given in the \"overview\" feature of our dataset. \n",
    "\n",
    "* sklearn.feature_extraction.text.TfidfVectorizer Overview\n",
    "The TfidfVectorizer in scikit-learn is used to convert a collection of text documents into a matrix of TF-IDF (Term Frequency-Inverse Document Frequency) features. It is a key tool for text preprocessing and feature extraction in natural language processing (NLP) tasks.\n",
    "\n",
    "Key Concepts:\n",
    "TF-IDF: The combination of:\n",
    "\n",
    "Term Frequency (TF): The number of times a term (word) appears in a document.\n",
    "Inverse Document Frequency (IDF): The inverse of the number of documents containing the term. It downweights common terms that appear in many documents.\n",
    "The formula for TF-IDF is:\n",
    "\n",
    "![Screenshot 2024-11-19 at 11.13.23.png](<attachment:Screenshot 2024-11-19 at 11.13.23.png>)\n",
    "\n",
    "\n",
    "Purpose: TF-IDF is used to assess the importance of words in a document relative to a collection of documents. It is helpful for tasks like:\n",
    "\n",
    "  - Text classification\n",
    "  - Information retrieval\n",
    "  - Document clustering\n",
    "\n",
    "TfidfVectorizer Parameters:\n",
    "  - input: Defines the input type, can be file, filename, content (default: content).\n",
    "  - encoding: Character encoding used to decode the input text.\n",
    "  - stop_words: Words to ignore (e.g., common stop words like \"the\", \"and\").\n",
    "  - ngram_range: The range of n-values for n-grams (tuples of words), default is (1, 1) for unigrams.\n",
    "  - max_features: Limit on the number of features (terms) to extract.\n",
    "  - min_df: Minimum document frequency for a term to be included (e.g., ignore terms that appear in fewer than min_df documents).\n",
    "  - max_df: Maximum document frequency (e.g., ignore terms that appear in more than max_df proportion of documents).\n",
    "  - norm: Normalization method for the TF-IDF scores (e.g., l2, l1).\n",
    "  - use_idf: Whether to use inverse document frequency (default is True).\n",
    "  - smooth_idf: Adds a smoothing factor to the IDF term to avoid division by zero."
   ]
  },
  {
   "cell_type": "code",
   "execution_count": 130,
   "metadata": {},
   "outputs": [
    {
     "name": "stdout",
     "output_type": "stream",
     "text": [
      "------------------------------------------------------\n",
      "|\"OVERVIEW\"                                          |\n",
      "------------------------------------------------------\n",
      "|In the 22nd century, a paraplegic Marine is dis...  |\n",
      "|Captain Barbossa, long believed to be dead, has...  |\n",
      "|A cryptic message from Bond’s past sends him on...  |\n",
      "|Following the death of District Attorney Harvey...  |\n",
      "|John Carter is a war-weary, former military cap...  |\n",
      "|The seemingly invincible Spider-Man goes up aga...  |\n",
      "|When the kingdom's most wanted-and most charmin...  |\n",
      "|When Tony Stark tries to jumpstart a dormant pe...  |\n",
      "|As Harry begins his sixth year at Hogwarts, he ...  |\n",
      "|Fearing the actions of a god-like Super Hero le...  |\n",
      "------------------------------------------------------\n",
      "\n"
     ]
    },
    {
     "data": {
      "text/plain": [
       "(4803, 20978)"
      ]
     },
     "execution_count": 130,
     "metadata": {},
     "output_type": "execute_result"
    }
   ],
   "source": [
    "from sklearn.feature_extraction.text import TfidfVectorizer\n",
    "\n",
    "# Define a TF-IDF Vectorizer Object. Remove all english stop words such as \"the\", \"a\"\n",
    "tfidf = TfidfVectorizer(stop_words=\"english\")\n",
    "\n",
    "# Replacing NaN with an empty string \n",
    "movies_credits_df = movies_credits_df.fillna({\"overview\": \"\"})\n",
    "\n",
    "movies_credits_df.select(\"overview\").show()\n",
    "\n",
    "# Convert Snowpark DataFrame to Pandas dataframe \n",
    "movies_credits_pd = movies_credits_df.to_pandas()\n",
    "\n",
    "# Constructing the required TF-IDF matrix by fitting and transforming the data \n",
    "tfidf_matrix = tfidf.fit_transform(movies_credits_pd[\"OVERVIEW\"])   # Case sensitive \n",
    "\n",
    "# Output the shape of tfidf_matrix \n",
    "tfidf_matrix.shape"
   ]
  },
  {
   "attachments": {
    "Screenshot 2024-11-19 at 11.33.35.png": {
     "image/png": "[encoded data removed]"
    }
   },
   "cell_type": "markdown",
   "metadata": {},
   "source": [
    "We see that 20978 different words were used to describe the 4803 movies in our dataset. \n",
    "\n",
    "With this matrix, we compute a similarity score. We wil be using the cosine similarity to calculate a numeric quantity that denotes the similarity between two movies. We use the cosine similarity score since it is independent of magnitude and is relatively easy and fast to calculate. \n",
    "Mathematically, it is defined as follows: \n",
    "\n",
    "![](<attachment:Screenshot 2024-11-19 at 11.33.35.png>)\n",
    "\n",
    "Since we have used the TF-IDF vectorizer, calculating the dot product will directly give us the cosine similarity score. Therefore, we will use sklearn's linear_kernel() instead of cosine_similarity() since it is faster. \n",
    "\n",
    "Why linear_kernel() is a good choice here:\n",
    "Dot product = Cosine similarity (for unit vectors): Since the TF-IDF vectors are generally normalized (with each document vector having a magnitude of 1), the dot product between two such vectors directly gives the cosine similarity score.\n",
    "Efficiency: The linear_kernel() function is computationally faster than cosine_similarity() because:\n",
    "linear_kernel() only computes the dot product between two vectors.\n",
    "cosine_similarity(), on the other hand, involves computing the dot product and normalizing the vectors to unit length (which requires additional computation). If the vectors are already normalized (as is typical with TF-IDF vectors), this normalization step becomes redundant, and linear_kernel() is just as accurate but faster."
   ]
  },
  {
   "cell_type": "code",
   "execution_count": 131,
   "metadata": {},
   "outputs": [],
   "source": [
    "# Import linear_kernel \n",
    "from sklearn.metrics.pairwise import linear_kernel\n",
    "\n",
    "# Computing the cosine similarity matrix \n",
    "cosine_sim = linear_kernel(tfidf_matrix, tfidf_matrix)\n"
   ]
  },
  {
   "cell_type": "markdown",
   "metadata": {},
   "source": []
  },
  {
   "cell_type": "markdown",
   "metadata": {},
   "source": [
    "Now we need a mechanism to identify the index of a movie in our metadata DataFrame, given its title. "
   ]
  },
  {
   "cell_type": "code",
   "execution_count": 132,
   "metadata": {},
   "outputs": [
    {
     "data": {
      "text/html": [
       "<div>\n",
       "<style scoped>\n",
       "    .dataframe tbody tr th:only-of-type {\n",
       "        vertical-align: middle;\n",
       "    }\n",
       "\n",
       "    .dataframe tbody tr th {\n",
       "        vertical-align: top;\n",
       "    }\n",
       "\n",
       "    .dataframe thead th {\n",
       "        text-align: right;\n",
       "    }\n",
       "</style>\n",
       "<table border=\"1\" class=\"dataframe\">\n",
       "  <thead>\n",
       "    <tr style=\"text-align: right;\">\n",
       "      <th></th>\n",
       "      <th>0</th>\n",
       "    </tr>\n",
       "    <tr>\n",
       "      <th>ORIGINAL_TITLE</th>\n",
       "      <th></th>\n",
       "    </tr>\n",
       "  </thead>\n",
       "  <tbody>\n",
       "    <tr>\n",
       "      <th>Avatar</th>\n",
       "      <td>0</td>\n",
       "    </tr>\n",
       "    <tr>\n",
       "      <th>Pirates of the Caribbean: At World's End</th>\n",
       "      <td>1</td>\n",
       "    </tr>\n",
       "    <tr>\n",
       "      <th>Spectre</th>\n",
       "      <td>2</td>\n",
       "    </tr>\n",
       "    <tr>\n",
       "      <th>The Dark Knight Rises</th>\n",
       "      <td>3</td>\n",
       "    </tr>\n",
       "    <tr>\n",
       "      <th>John Carter</th>\n",
       "      <td>4</td>\n",
       "    </tr>\n",
       "  </tbody>\n",
       "</table>\n",
       "</div>"
      ],
      "text/plain": [
       "                                          0\n",
       "ORIGINAL_TITLE                             \n",
       "Avatar                                    0\n",
       "Pirates of the Caribbean: At World's End  1\n",
       "Spectre                                   2\n",
       "The Dark Knight Rises                     3\n",
       "John Carter                               4"
      ]
     },
     "execution_count": 132,
     "metadata": {},
     "output_type": "execute_result"
    }
   ],
   "source": [
    "# Constructing a revse map of incies and movie titles \n",
    "indices = pd.Series(movies_credits_pd.index, index=movies_credits_pd[\"ORIGINAL_TITLE\"]).drop_duplicates()\n",
    "\n",
    "pd.DataFrame(indices).head()"
   ]
  },
  {
   "cell_type": "markdown",
   "metadata": {},
   "source": [
    "Now we need to follow the steps for defining our recommendation function: \n",
    "* Get the index of the movie given its title \n",
    "* Get the list of cosine similarity scores for that particular movie with all movies. \n",
    "* Convert it into a list of tuples where the first element is its position and the second is the similarity socre. \n",
    "* Sort the aforementioned list of tuples based on the similarity scores; that is, the second element. \n",
    "* Get the top 10 elements of this list. Ignore the first element as it refers to itself (the movie most similar to a particular movie is the movie itself.)\n",
    "* Return the titles correpsonding to the indices of the top elements. "
   ]
  },
  {
   "cell_type": "code",
   "execution_count": 133,
   "metadata": {},
   "outputs": [],
   "source": [
    "def get_recommendation(title, cosine_sim=cosine_sim): \n",
    "    # Get the index of the movie given its title\n",
    "    idx = indices[title]\n",
    "    # Get the list of cosine similarity scores \n",
    "    sim_scores = list(enumerate(cosine_sim[idx]))\n",
    "    # Sort based on sim_score \n",
    "    sim_scores = sorted(sim_scores, key=lambda x: x[1], reverse=True)\n",
    "    # Get the scores of the top 10 most similar movies \n",
    "    sim_scores = sim_scores[1:11]\n",
    "    # Get the indices of movies \n",
    "    sim_scores = [i[0] for i in sim_scores]\n",
    "    \n",
    "    return movies_credits_pd[\"ORIGINAL_TITLE\"].iloc[sim_scores]\n"
   ]
  },
  {
   "cell_type": "code",
   "execution_count": 134,
   "metadata": {},
   "outputs": [
    {
     "data": {
      "text/plain": [
       "1281                  Hackers\n",
       "2996                 Commando\n",
       "2088                    Pulse\n",
       "1341         Obitaemyy Ostrov\n",
       "333             Transcendence\n",
       "0                      Avatar\n",
       "261     Live Free or Die Hard\n",
       "775                 Supernova\n",
       "125       The Matrix Reloaded\n",
       "2614          The Love Letter\n",
       "Name: ORIGINAL_TITLE, dtype: object"
      ]
     },
     "execution_count": 134,
     "metadata": {},
     "output_type": "execute_result"
    }
   ],
   "source": [
    "# Test the results: \n",
    "\n",
    "get_recommendation(\"The Matrix\")"
   ]
  },
  {
   "cell_type": "code",
   "execution_count": 135,
   "metadata": {},
   "outputs": [
    {
     "data": {
      "text/plain": [
       "870                          Superman II\n",
       "10                      Superman Returns\n",
       "2433    Superman IV: The Quest for Peace\n",
       "914                 Central Intelligence\n",
       "4659                          Horse Camp\n",
       "2527         National Lampoon's Vacation\n",
       "3542                                R100\n",
       "45                           World War Z\n",
       "1368                      Identity Thief\n",
       "1237                  The Out-of-Towners\n",
       "Name: ORIGINAL_TITLE, dtype: object"
      ]
     },
     "execution_count": 135,
     "metadata": {},
     "output_type": "execute_result"
    }
   ],
   "source": [
    "get_recommendation(\"Superman\")"
   ]
  },
  {
   "cell_type": "markdown",
   "metadata": {},
   "source": [
    "# Credits, Genres and Keywords Based Recommender \n",
    "\n",
    "We are going to build a recommender based on the following: \n",
    "the top 3 actors, the director, related genres and the movie plot keywords. \n",
    "From the cast, crew and keywords features, we need to extract the three most important actors, the director and the keywords associated with that movie. \n",
    "Right now, our data is present in the form of \"stringfield\" lists, we need to convert is into a safe and usable structure. \n",
    "\n",
    "\n",
    "## ast: Abstract Syntax Trees \n",
    "The literal_eval function from the ast module is used to safely evaluate a string containing a Python liternal expression. It can parse and evalaute strings that represent Python literal structures such as : \n",
    "\n",
    "* Strings\n",
    "* Numbers\n",
    "* Tuples\n",
    "* Lists\n",
    "* Dictionaries\n",
    "* Booleans\n",
    "\n",
    "It only evaluates literal expressions (those that represent basic Python data types) and does not execute arbitrary code, making it safer than the eval() function, which can execute arbitrary Python code.\n",
    "\n",
    "Common Use Case:\n",
    "If you have a string that represents a Python literal (e.g., a list or dictionary), and you want to convert it into the corresponding Python object, literal_eval can be used.\n",
    "\n",
    "Important Points:\n",
    "Safety: Unlike eval(), which can execute arbitrary code, literal_eval only evaluates valid Python literals (e.g., numbers, strings, tuples, lists, dictionaries, booleans, None).\n",
    "Common Use Cases:\n",
    "Converting string representations of lists, dictionaries, or other literals back into their actual Python objects.\n",
    "Parsing configurations or user input that might contain such literals.\n",
    "\n"
   ]
  },
  {
   "cell_type": "code",
   "execution_count": 11,
   "metadata": {},
   "outputs": [
    {
     "name": "stdout",
     "output_type": "stream",
     "text": [
      "------------------------------------------------------------------------------------------------------------------------------------------------------------------------------------------------------------------------------------------------------------------------------------------------------------------------------------------------------------------------------------------------------------------------------------------------------------------------------------------------------------------------------------------------------------------------------------------------------------------------------------------------------------------------------------------------------------------------------------------------------------------------------------------------------------------------------------------\n",
      "|\"ID\"    |\"BUDGET\"  |\"GENRES\"                                            |\"HOMEPAGE\"                              |\"KEYWORDS\"                                          |\"ORIGINAL_LANGUAGE\"  |\"ORIGINAL_TITLE\"                                 |\"OVERVIEW\"                                          |\"POPULARITY\"  |\"PRODUCTION_COMPANIES\"                              |\"PRODUCTION_COUNTRIES\"                              |\"RELEASE_DATE\"  |\"REVENUE\"  |\"RUNTIME\"  |\"SPOKEN_LANGUAGES\"                                  |\"STATUS\"  |\"TAGLINE\"                                           |\"l_kunu_TITLE\"                                   |\"VOTE_AVERAGE\"  |\"VOTE_COUNT\"  |\"r_umfy_TITLE\"                                   |\"CAST\"                                              |\"CREW\"                                              |\n",
      "------------------------------------------------------------------------------------------------------------------------------------------------------------------------------------------------------------------------------------------------------------------------------------------------------------------------------------------------------------------------------------------------------------------------------------------------------------------------------------------------------------------------------------------------------------------------------------------------------------------------------------------------------------------------------------------------------------------------------------------------------------------------------------------------------------------------------------------\n",
      "|44639   |2000000   |[{\"id\": 99, \"name\": \"Documentary\"}]                 |http://www.sonyclassics.com/insidejob/  |[{\"id\": 417, \"name\": \"corruption\"}, {\"id\": 592,...  |en                   |Inside Job                                       |A film that exposes the shocking truth behind t...  |16.930914     |[{\"name\": \"Sony Pictures Classics\", \"id\": 58}, ...  |[{\"iso_3166_1\": \"US\", \"name\": \"United States of...  |2010-10-08      |7871522    |109.0      |[{\"iso_639_1\": \"en\", \"name\": \"English\"}]            |Released  |The film that cost $20,000,000,000,000 to make.     |Inside Job                                       |7.7             |286           |Inside Job                                       |[{\"cast_id\": 1, \"character\": \"Narrator\", \"credi...  |[{\"credit_id\": \"52fe4694c3a36847f81069d9\", \"dep...  |\n",
      "|301351  |6000000   |[{\"id\": 18, \"name\": \"Drama\"}, {\"id\": 10402, \"na...  |NULL                                    |[{\"id\": 186117, \"name\": \"dj\"}]                      |en                   |We Are Your Friends                              |Young Cole Carter dreams of hitting the big tim...  |28.819424     |[{\"name\": \"Working Title Films\", \"id\": 10163}]      |[{\"iso_3166_1\": \"GB\", \"name\": \"United Kingdom\"}...  |2015-08-26      |11122090   |96.0       |[{\"iso_639_1\": \"en\", \"name\": \"English\"}, {\"iso_...  |Released  |The world is yours.                                 |We Are Your Friends                              |6.3             |658           |We Are Your Friends                              |[{\"cast_id\": 3, \"character\": \"Cole\", \"credit_id...  |[{\"credit_id\": \"555f521c9251416f69000e38\", \"dep...  |\n",
      "|4816    |0         |[{\"id\": 80, \"name\": \"Crime\"}, {\"id\": 18, \"name\"...  |NULL                                    |[{\"id\": 2428, \"name\": \"deportation\"}, {\"id\": 27...  |en                   |Ghost Dog: The Way of the Samurai                |An African-American Mafia hit man who models hi...  |18.223139     |[{\"name\": \"Bac Films\", \"id\": 208}, {\"name\": \"Pa...  |[{\"iso_3166_1\": \"US\", \"name\": \"United States of...  |1999-09-13      |0          |116.0      |[{\"iso_639_1\": \"en\", \"name\": \"English\"}]            |Released  |All assassins live beyond the law … only one fo...  |Ghost Dog: The Way of the Samurai                |7.2             |298           |Ghost Dog: The Way of the Samurai                |[{\"cast_id\": 9, \"character\": \"Ghost Dog\", \"cred...  |[{\"credit_id\": \"52fe43dcc3a36847f80748b5\", \"dep...  |\n",
      "|7873    |2000000   |[{\"id\": 80, \"name\": \"Crime\"}, {\"id\": 18, \"name\"...  |http://www.harshtimes.com/              |[{\"id\": 173924, \"name\": \"watching a movie\"}, {\"...  |en                   |Harsh Times                                      |Jim Davis is an ex-Army Ranger who finds himsel...  |12.999023     |[{\"name\": \"The Weinstein Company\", \"id\": 308}]      |[{\"iso_3166_1\": \"US\", \"name\": \"United States of...  |2005-09-11      |5967038    |120.0      |[{\"iso_639_1\": \"en\", \"name\": \"English\"}, {\"iso_...  |Released  |Take A Ride To The Edge                             |Harsh Times                                      |6.3             |197           |Harsh Times                                      |[{\"cast_id\": 1, \"character\": \"Jim Luther Davis\"...  |[{\"credit_id\": \"52fe4488c3a36847f809b711\", \"dep...  |\n",
      "|331190  |2000000   |[{\"id\": 80, \"name\": \"Crime\"}, {\"id\": 18, \"name\"...  |NULL                                    |[{\"id\": 1562, \"name\": \"hostage\"}, {\"id\": 9672, ...  |en                   |Captive                                          |Based on a miraculous true story that drew the ...  |6.728882      |[{\"name\": \"Itaca Films\", \"id\": 16322}, {\"name\":...  |[{\"iso_3166_1\": \"US\", \"name\": \"United States of...  |2015-09-17      |2801508    |97.0       |[{\"iso_639_1\": \"en\", \"name\": \"English\"}]            |Released  |Faith. Redemption. Survival.                        |Captive                                          |5.6             |92            |Captive                                          |[{\"cast_id\": 1, \"character\": \"Ashley Smith\", \"c...  |[{\"credit_id\": \"568c85bfc3a3685f89019e29\", \"dep...  |\n",
      "|15186   |2000000   |[{\"id\": 35, \"name\": \"Comedy\"}, {\"id\": 18, \"name...  |NULL                                    |[{\"id\": 10183, \"name\": \"independent film\"}]         |en                   |Full Frontal                                     |A contemporary comedy set in Los Angeles, Full ...  |1.95686       |[{\"name\": \"Miramax Films\", \"id\": 14}, {\"name\": ...  |[{\"iso_3166_1\": \"US\", \"name\": \"United States of...  |2002-08-02      |2506446    |96.0       |[{\"iso_639_1\": \"en\", \"name\": \"English\"}]            |Released  |Everybody Needs A Release                           |Full Frontal                                     |4.8             |26            |Full Frontal                                     |[{\"cast_id\": 1, \"character\": \"Bill\", \"credit_id...  |[{\"credit_id\": \"56701daa9251417383011861\", \"dep...  |\n",
      "|17994   |0         |[{\"id\": 27, \"name\": \"Horror\"}]                      |NULL                                    |[{\"id\": 3598, \"name\": \"ax\"}, {\"id\": 9712, \"name...  |en                   |Witchboard                                       |Playing around with a Ouija board, a trio of fr...  |7.151154      |[]                                                  |[{\"iso_3166_1\": \"GB\", \"name\": \"United Kingdom\"}...  |1986-12-31      |0          |98.0       |[{\"iso_639_1\": \"de\", \"name\": \"Deutsch\"}]            |Released  |It's more than just a game.                         |Witchboard                                       |5.9             |58            |Witchboard                                       |[{\"cast_id\": 2, \"character\": \"Brandon Sinclair\"...  |[{\"credit_id\": \"52fe47599251416c75096257\", \"dep...  |\n",
      "|1378    |2000000   |[{\"id\": 10749, \"name\": \"Romance\"}, {\"id\": 18, \"...  |http://www.shortbusthemovie.com         |[{\"id\": 237, \"name\": \"gay\"}, {\"id\": 242, \"name\"...  |en                   |Shortbus                                         |A group of New Yorkers caught up in their milie...  |14.846001     |[{\"name\": \"Fortissimo Films\", \"id\": 1615}, {\"na...  |[{\"iso_3166_1\": \"US\", \"name\": \"United States of...  |2006-05-20      |5179037    |101.0      |[{\"iso_639_1\": \"en\", \"name\": \"English\"}]            |Released  |Open Your Mind. And Everything Else.                |Shortbus                                         |6.3             |140           |Shortbus                                         |[{\"cast_id\": 11, \"character\": \"Sofia\", \"credit_...  |[{\"credit_id\": \"52fe42f1c3a36847f802ebab\", \"dep...  |\n",
      "|8885    |2000000   |[{\"id\": 18, \"name\": \"Drama\"}, {\"id\": 16, \"name\"...  |http://waltzwithbashir.com              |[{\"id\": 536, \"name\": \"israel\"}, {\"id\": 537, \"na...  |he                   |Vals Im Bashir                                   |Much awarded animated documentary, in which dir...  |14.08251      |[{\"name\": \"Les Films d'Ici\", \"id\": 1848}, {\"nam...  |[{\"iso_3166_1\": \"IL\", \"name\": \"Israel\"}, {\"iso_...  |2008-06-25      |11125849   |90.0       |[{\"iso_639_1\": \"he\", \"name\": \"\\u05e2\\u05b4\\u05d...  |Released  |NULL                                                |Waltz with Bashir                                |7.8             |291           |Waltz with Bashir                                |[{\"cast_id\": 18, \"character\": \"Himself (voice)\"...  |[{\"credit_id\": \"52fe44c4c3a36847f80a900d\", \"dep...  |\n",
      "|48382   |2000000   |[]                                                  |NULL                                    |[]                                                  |en                   |The Book of Mormon Movie, Volume 1: The Journey  |The story of Lehi and his wife Sariah and their...  |0.031947      |[]                                                  |[]                                                  |2003-09-12      |1672730    |120.0      |[]                                                  |Released  |2600 years ago, one family began a remarkable j...  |The Book of Mormon Movie, Volume 1: The Journey  |5.0             |2             |The Book of Mormon Movie, Volume 1: The Journey  |[{\"cast_id\": 1, \"character\": \"Sam\", \"credit_id\"...  |[]                                                  |\n",
      "------------------------------------------------------------------------------------------------------------------------------------------------------------------------------------------------------------------------------------------------------------------------------------------------------------------------------------------------------------------------------------------------------------------------------------------------------------------------------------------------------------------------------------------------------------------------------------------------------------------------------------------------------------------------------------------------------------------------------------------------------------------------------------------------------------------------------------------\n",
      "\n"
     ]
    }
   ],
   "source": [
    "movies_credits_df.show()"
   ]
  },
  {
   "cell_type": "code",
   "execution_count": 12,
   "metadata": {},
   "outputs": [
    {
     "name": "stdout",
     "output_type": "stream",
     "text": [
      "------------------------------------------------------------------------------------------------------------------------------------------------------------------------------------------------------------------------------------------------------------------------------------------------------------------------------------------------------------------------------------------------------------------------------------------------------------------------------------------------------------------------------------------------------------------------------------------------------------------------------------------------------------------------------------------------------------------------------------------------------------------------------------------------------------------------------------------\n",
      "|\"ID\"    |\"BUDGET\"  |\"HOMEPAGE\"                              |\"KEYWORDS\"                                          |\"ORIGINAL_LANGUAGE\"  |\"ORIGINAL_TITLE\"                                 |\"OVERVIEW\"                                          |\"POPULARITY\"  |\"PRODUCTION_COMPANIES\"                              |\"PRODUCTION_COUNTRIES\"                              |\"RELEASE_DATE\"  |\"REVENUE\"  |\"RUNTIME\"  |\"SPOKEN_LANGUAGES\"                                  |\"STATUS\"  |\"TAGLINE\"                                           |\"l_kunu_TITLE\"                                   |\"VOTE_AVERAGE\"  |\"VOTE_COUNT\"  |\"r_umfy_TITLE\"                                   |\"CAST\"                                              |\"CREW\"                                              |\"GENRES\"                                            |\n",
      "------------------------------------------------------------------------------------------------------------------------------------------------------------------------------------------------------------------------------------------------------------------------------------------------------------------------------------------------------------------------------------------------------------------------------------------------------------------------------------------------------------------------------------------------------------------------------------------------------------------------------------------------------------------------------------------------------------------------------------------------------------------------------------------------------------------------------------------\n",
      "|44639   |2000000   |http://www.sonyclassics.com/insidejob/  |[{\"id\": 417, \"name\": \"corruption\"}, {\"id\": 592,...  |en                   |Inside Job                                       |A film that exposes the shocking truth behind t...  |16.930914     |[{\"name\": \"Sony Pictures Classics\", \"id\": 58}, ...  |[{\"iso_3166_1\": \"US\", \"name\": \"United States of...  |2010-10-08      |7871522    |109.0      |[{\"iso_639_1\": \"en\", \"name\": \"English\"}]            |Released  |The film that cost $20,000,000,000,000 to make.     |Inside Job                                       |7.7             |286           |Inside Job                                       |[{\"cast_id\": 1, \"character\": \"Narrator\", \"credi...  |[{\"credit_id\": \"52fe4694c3a36847f81069d9\", \"dep...  |[{'id': 99, 'name': 'Documentary'}]                 |\n",
      "|301351  |6000000   |NULL                                    |[{\"id\": 186117, \"name\": \"dj\"}]                      |en                   |We Are Your Friends                              |Young Cole Carter dreams of hitting the big tim...  |28.819424     |[{\"name\": \"Working Title Films\", \"id\": 10163}]      |[{\"iso_3166_1\": \"GB\", \"name\": \"United Kingdom\"}...  |2015-08-26      |11122090   |96.0       |[{\"iso_639_1\": \"en\", \"name\": \"English\"}, {\"iso_...  |Released  |The world is yours.                                 |We Are Your Friends                              |6.3             |658           |We Are Your Friends                              |[{\"cast_id\": 3, \"character\": \"Cole\", \"credit_id...  |[{\"credit_id\": \"555f521c9251416f69000e38\", \"dep...  |[{'id': 18, 'name': 'Drama'}, {'id': 10402, 'na...  |\n",
      "|4816    |0         |NULL                                    |[{\"id\": 2428, \"name\": \"deportation\"}, {\"id\": 27...  |en                   |Ghost Dog: The Way of the Samurai                |An African-American Mafia hit man who models hi...  |18.223139     |[{\"name\": \"Bac Films\", \"id\": 208}, {\"name\": \"Pa...  |[{\"iso_3166_1\": \"US\", \"name\": \"United States of...  |1999-09-13      |0          |116.0      |[{\"iso_639_1\": \"en\", \"name\": \"English\"}]            |Released  |All assassins live beyond the law … only one fo...  |Ghost Dog: The Way of the Samurai                |7.2             |298           |Ghost Dog: The Way of the Samurai                |[{\"cast_id\": 9, \"character\": \"Ghost Dog\", \"cred...  |[{\"credit_id\": \"52fe43dcc3a36847f80748b5\", \"dep...  |[{'id': 80, 'name': 'Crime'}, {'id': 18, 'name'...  |\n",
      "|7873    |2000000   |http://www.harshtimes.com/              |[{\"id\": 173924, \"name\": \"watching a movie\"}, {\"...  |en                   |Harsh Times                                      |Jim Davis is an ex-Army Ranger who finds himsel...  |12.999023     |[{\"name\": \"The Weinstein Company\", \"id\": 308}]      |[{\"iso_3166_1\": \"US\", \"name\": \"United States of...  |2005-09-11      |5967038    |120.0      |[{\"iso_639_1\": \"en\", \"name\": \"English\"}, {\"iso_...  |Released  |Take A Ride To The Edge                             |Harsh Times                                      |6.3             |197           |Harsh Times                                      |[{\"cast_id\": 1, \"character\": \"Jim Luther Davis\"...  |[{\"credit_id\": \"52fe4488c3a36847f809b711\", \"dep...  |[{'id': 80, 'name': 'Crime'}, {'id': 18, 'name'...  |\n",
      "|331190  |2000000   |NULL                                    |[{\"id\": 1562, \"name\": \"hostage\"}, {\"id\": 9672, ...  |en                   |Captive                                          |Based on a miraculous true story that drew the ...  |6.728882      |[{\"name\": \"Itaca Films\", \"id\": 16322}, {\"name\":...  |[{\"iso_3166_1\": \"US\", \"name\": \"United States of...  |2015-09-17      |2801508    |97.0       |[{\"iso_639_1\": \"en\", \"name\": \"English\"}]            |Released  |Faith. Redemption. Survival.                        |Captive                                          |5.6             |92            |Captive                                          |[{\"cast_id\": 1, \"character\": \"Ashley Smith\", \"c...  |[{\"credit_id\": \"568c85bfc3a3685f89019e29\", \"dep...  |[{'id': 80, 'name': 'Crime'}, {'id': 18, 'name'...  |\n",
      "|15186   |2000000   |NULL                                    |[{\"id\": 10183, \"name\": \"independent film\"}]         |en                   |Full Frontal                                     |A contemporary comedy set in Los Angeles, Full ...  |1.95686       |[{\"name\": \"Miramax Films\", \"id\": 14}, {\"name\": ...  |[{\"iso_3166_1\": \"US\", \"name\": \"United States of...  |2002-08-02      |2506446    |96.0       |[{\"iso_639_1\": \"en\", \"name\": \"English\"}]            |Released  |Everybody Needs A Release                           |Full Frontal                                     |4.8             |26            |Full Frontal                                     |[{\"cast_id\": 1, \"character\": \"Bill\", \"credit_id...  |[{\"credit_id\": \"56701daa9251417383011861\", \"dep...  |[{'id': 35, 'name': 'Comedy'}, {'id': 18, 'name...  |\n",
      "|17994   |0         |NULL                                    |[{\"id\": 3598, \"name\": \"ax\"}, {\"id\": 9712, \"name...  |en                   |Witchboard                                       |Playing around with a Ouija board, a trio of fr...  |7.151154      |[]                                                  |[{\"iso_3166_1\": \"GB\", \"name\": \"United Kingdom\"}...  |1986-12-31      |0          |98.0       |[{\"iso_639_1\": \"de\", \"name\": \"Deutsch\"}]            |Released  |It's more than just a game.                         |Witchboard                                       |5.9             |58            |Witchboard                                       |[{\"cast_id\": 2, \"character\": \"Brandon Sinclair\"...  |[{\"credit_id\": \"52fe47599251416c75096257\", \"dep...  |[{'id': 27, 'name': 'Horror'}]                      |\n",
      "|1378    |2000000   |http://www.shortbusthemovie.com         |[{\"id\": 237, \"name\": \"gay\"}, {\"id\": 242, \"name\"...  |en                   |Shortbus                                         |A group of New Yorkers caught up in their milie...  |14.846001     |[{\"name\": \"Fortissimo Films\", \"id\": 1615}, {\"na...  |[{\"iso_3166_1\": \"US\", \"name\": \"United States of...  |2006-05-20      |5179037    |101.0      |[{\"iso_639_1\": \"en\", \"name\": \"English\"}]            |Released  |Open Your Mind. And Everything Else.                |Shortbus                                         |6.3             |140           |Shortbus                                         |[{\"cast_id\": 11, \"character\": \"Sofia\", \"credit_...  |[{\"credit_id\": \"52fe42f1c3a36847f802ebab\", \"dep...  |[{'id': 10749, 'name': 'Romance'}, {'id': 18, '...  |\n",
      "|8885    |2000000   |http://waltzwithbashir.com              |[{\"id\": 536, \"name\": \"israel\"}, {\"id\": 537, \"na...  |he                   |Vals Im Bashir                                   |Much awarded animated documentary, in which dir...  |14.08251      |[{\"name\": \"Les Films d'Ici\", \"id\": 1848}, {\"nam...  |[{\"iso_3166_1\": \"IL\", \"name\": \"Israel\"}, {\"iso_...  |2008-06-25      |11125849   |90.0       |[{\"iso_639_1\": \"he\", \"name\": \"\\u05e2\\u05b4\\u05d...  |Released  |NULL                                                |Waltz with Bashir                                |7.8             |291           |Waltz with Bashir                                |[{\"cast_id\": 18, \"character\": \"Himself (voice)\"...  |[{\"credit_id\": \"52fe44c4c3a36847f80a900d\", \"dep...  |[{'id': 18, 'name': 'Drama'}, {'id': 16, 'name'...  |\n",
      "|48382   |2000000   |NULL                                    |[]                                                  |en                   |The Book of Mormon Movie, Volume 1: The Journey  |The story of Lehi and his wife Sariah and their...  |0.031947      |[]                                                  |[]                                                  |2003-09-12      |1672730    |120.0      |[]                                                  |Released  |2600 years ago, one family began a remarkable j...  |The Book of Mormon Movie, Volume 1: The Journey  |5.0             |2             |The Book of Mormon Movie, Volume 1: The Journey  |[{\"cast_id\": 1, \"character\": \"Sam\", \"credit_id\"...  |[]                                                  |[]                                                  |\n",
      "------------------------------------------------------------------------------------------------------------------------------------------------------------------------------------------------------------------------------------------------------------------------------------------------------------------------------------------------------------------------------------------------------------------------------------------------------------------------------------------------------------------------------------------------------------------------------------------------------------------------------------------------------------------------------------------------------------------------------------------------------------------------------------------------------------------------------------------\n",
      "\n"
     ]
    }
   ],
   "source": [
    "from ast import literal_eval\n",
    "\n",
    "features = [\"cast\", \"crew\", \"keywords\", \"genres\"]\n",
    "\n",
    "# Define a function that uses literal_eval \n",
    "def apply_literal_eval(feat: str): \n",
    "    return literal_eval(feat) if feat else []\n",
    "\n",
    "# Important: Register the UDF explicitly with the session \n",
    "apply_literal_eval_udf = session.udf.register(apply_literal_eval, \n",
    "                                              return_type=T.StringType(), \n",
    "                                              input_types=[T.StringType()])\n",
    "\n",
    "# Apply the UDF to the relevant columns in the Snowpark DataFrame \n",
    "df_copy = movies_credits_df\n",
    "for feat in features:\n",
    "    transformed_df = df_copy.with_column(feat, apply_literal_eval_udf(F.col(feat).cast(T.StringType())))\n",
    "\n",
    "transformed_df.show()\n"
   ]
  },
  {
   "cell_type": "markdown",
   "metadata": {},
   "source": []
  },
  {
   "cell_type": "code",
   "execution_count": 13,
   "metadata": {},
   "outputs": [
    {
     "name": "stdout",
     "output_type": "stream",
     "text": [
      "--------------------------------------------------------------------------------------\n",
      "|\"ID\"    |\"ORIGINAL_TITLE\"                                 |\"DIRECTOR\"               |\n",
      "--------------------------------------------------------------------------------------\n",
      "|44639   |Inside Job                                       |\"Charles Ferguson\"       |\n",
      "|301351  |We Are Your Friends                              |\"Max Joseph\"             |\n",
      "|4816    |Ghost Dog: The Way of the Samurai                |\"Jim Jarmusch\"           |\n",
      "|7873    |Harsh Times                                      |\"David Ayer\"             |\n",
      "|331190  |Captive                                          |\"Jerry Jameson\"          |\n",
      "|15186   |Full Frontal                                     |\"Steven Soderbergh\"      |\n",
      "|17994   |Witchboard                                       |\"Kevin Tenney\"           |\n",
      "|1378    |Shortbus                                         |\"John Cameron Mitchell\"  |\n",
      "|8885    |Vals Im Bashir                                   |\"Ari Folman\"             |\n",
      "|48382   |The Book of Mormon Movie, Volume 1: The Journey  |null                     |\n",
      "--------------------------------------------------------------------------------------\n",
      "\n"
     ]
    }
   ],
   "source": [
    "# Get the director's name from the crew feature. If director is not listed, return NaN\n",
    "def get_director(crew):\n",
    "    for item in crew: \n",
    "        if item[\"job\"] == \"Director\":\n",
    "            return item[\"name\"]\n",
    "    return None\n",
    "\n",
    "# Important: Register the UDF explicitly with the session \n",
    "get_director_udf = session.udf.register(get_director, \n",
    "                                        return_type=T.VariantType(), \n",
    "                                        input_types=[T.VariantType()])\n",
    "\n",
    "\n",
    "# Parse the JSON string column into a VARIANT type \n",
    "parsed_crew_df = (transformed_df\n",
    "                  .with_column(\"crew\", F.parse_json(\"crew\")))\n",
    "\n",
    "movie_director_df = parsed_crew_df.with_column(\"director\", get_director_udf(F.col(\"crew\")))\n",
    "\n",
    "movie_director_df.select(\"id\", \"original_title\", \"director\").show(10)\n",
    "\n",
    "#parsed_crew_df.count(), movie_director_df.count()"
   ]
  },
  {
   "cell_type": "markdown",
   "metadata": {},
   "source": []
  },
  {
   "cell_type": "code",
   "execution_count": 14,
   "metadata": {},
   "outputs": [
    {
     "name": "stdout",
     "output_type": "stream",
     "text": [
      "--------------------------------------------------------------------------------------------------------------------------\n",
      "|\"ID\"    |\"ORIGINAL_TITLE\"                   |\"CAST\"                        |\"KEYWORDS\"                |\"GENRES\"         |\n",
      "--------------------------------------------------------------------------------------------------------------------------\n",
      "|44639   |Inside Job                         |[                             |[                         |[                |\n",
      "|        |                                   |  \"Matt Damon\",               |  \"corruption\",           |  \"Documentary\"  |\n",
      "|        |                                   |  \"William Ackman\",           |  \"capitalism\",           |]                |\n",
      "|        |                                   |  \"Barack Obama\"              |  \"globalization\"         |                 |\n",
      "|        |                                   |]                             |]                         |                 |\n",
      "|301351  |We Are Your Friends                |[                             |[                         |[                |\n",
      "|        |                                   |  \"Zac Efron\",                |  \"dj\"                    |  \"Drama\",       |\n",
      "|        |                                   |  \"Emily Ratajkowski\",        |]                         |  \"Music\",       |\n",
      "|        |                                   |  \"Wes Bentley\"               |                          |  \"Romance\"      |\n",
      "|        |                                   |]                             |                          |]                |\n",
      "|4816    |Ghost Dog: The Way of the Samurai  |[                             |[                         |[                |\n",
      "|        |                                   |  \"Forest Whitaker\",          |  \"deportation\",          |  \"Crime\",       |\n",
      "|        |                                   |  \"Cliff Gorman\",             |  \"hitman\",               |  \"Drama\"        |\n",
      "|        |                                   |  \"Tricia Vessey\"             |  \"mission of murder\"     |]                |\n",
      "|        |                                   |]                             |]                         |                 |\n",
      "|7873    |Harsh Times                        |[                             |[                         |[                |\n",
      "|        |                                   |  \"Christian Bale\",           |  \"watching a movie\",     |  \"Crime\",       |\n",
      "|        |                                   |  \"Freddy Rodríguez\",         |  \"playing pool\",         |  \"Drama\",       |\n",
      "|        |                                   |  \"Eva Longoria\"              |  \"vinegar\"               |  \"Thriller\"     |\n",
      "|        |                                   |]                             |]                         |]                |\n",
      "|331190  |Captive                            |[                             |[                         |[                |\n",
      "|        |                                   |  \"Kate Mara\",                |  \"hostage\",              |  \"Crime\",       |\n",
      "|        |                                   |  \"David Oyelowo\",            |  \"based on true story\",  |  \"Drama\",       |\n",
      "|        |                                   |  \"Michael Kenneth Williams\"  |  \"murder\"                |  \"Thriller\"     |\n",
      "|        |                                   |]                             |]                         |]                |\n",
      "--------------------------------------------------------------------------------------------------------------------------\n",
      "\n"
     ]
    }
   ],
   "source": [
    "features = [\"cast\", \"keywords\", \"genres\"]\n",
    "\n",
    "parsed_df = movie_director_df\n",
    "for feat in features:\n",
    "    parsed_df = (parsed_df\n",
    "                  .with_column(feat, F.parse_json(feat)))\n",
    "\n",
    "\n",
    "#parsed_df.select(features).show(5)\n",
    "#parsed_df.select(features).schema\n",
    "\n",
    "# Only keep the first three elements in each column \n",
    "def get_list(col):\n",
    "    if isinstance(col, list): \n",
    "        names = [i[\"name\"] for i in col]\n",
    "        # Check if more than 3 elements exist. If yes, return only first three. If  no, return entire list. \n",
    "        if len(names) > 3:\n",
    "            names = names[:3]\n",
    "        return names \n",
    "    \n",
    "    # return empty list in case of missing/malformed data\n",
    "    return []\n",
    "\n",
    "# Important: Register the UDF explicitly with the session \n",
    "get_list_udf = session.udf.register(get_list, \n",
    "                                        return_type=T.VariantType(), \n",
    "                                        input_types=[T.VariantType()])\n",
    "\n",
    "top_three_df = parsed_df\n",
    "for feat in features: \n",
    "    top_three_df = top_three_df.with_column(feat, get_list_udf(F.col(feat)))\n",
    "\n",
    "top_three_df.select(\"id\", \"original_title\", *features).show(5)\n"
   ]
  },
  {
   "cell_type": "markdown",
   "metadata": {},
   "source": [
    "The next step is to convert the names and keyword instances into lowercase and strip all the spaces between them. This is done so that the vectorizer does not count the Johnny of \"Johnny Depp\" and \"Johnny Galecki\" at the same . "
   ]
  },
  {
   "cell_type": "code",
   "execution_count": 15,
   "metadata": {},
   "outputs": [
    {
     "name": "stdout",
     "output_type": "stream",
     "text": [
      "--------------------------------------------------------------------------------------------------\n",
      "|\"DIRECTOR\"          |\"CAST\"                        |\"KEYWORDS\"                |\"GENRES\"         |\n",
      "--------------------------------------------------------------------------------------------------\n",
      "|\"Charles Ferguson\"  |[                             |[                         |[                |\n",
      "|                    |  \"Matt Damon\",               |  \"corruption\",           |  \"Documentary\"  |\n",
      "|                    |  \"William Ackman\",           |  \"capitalism\",           |]                |\n",
      "|                    |  \"Barack Obama\"              |  \"globalization\"         |                 |\n",
      "|                    |]                             |]                         |                 |\n",
      "|\"Max Joseph\"        |[                             |[                         |[                |\n",
      "|                    |  \"Zac Efron\",                |  \"dj\"                    |  \"Drama\",       |\n",
      "|                    |  \"Emily Ratajkowski\",        |]                         |  \"Music\",       |\n",
      "|                    |  \"Wes Bentley\"               |                          |  \"Romance\"      |\n",
      "|                    |]                             |                          |]                |\n",
      "|\"Jim Jarmusch\"      |[                             |[                         |[                |\n",
      "|                    |  \"Forest Whitaker\",          |  \"deportation\",          |  \"Crime\",       |\n",
      "|                    |  \"Cliff Gorman\",             |  \"hitman\",               |  \"Drama\"        |\n",
      "|                    |  \"Tricia Vessey\"             |  \"mission of murder\"     |]                |\n",
      "|                    |]                             |]                         |                 |\n",
      "|\"David Ayer\"        |[                             |[                         |[                |\n",
      "|                    |  \"Christian Bale\",           |  \"watching a movie\",     |  \"Crime\",       |\n",
      "|                    |  \"Freddy Rodríguez\",         |  \"playing pool\",         |  \"Drama\",       |\n",
      "|                    |  \"Eva Longoria\"              |  \"vinegar\"               |  \"Thriller\"     |\n",
      "|                    |]                             |]                         |]                |\n",
      "|\"Jerry Jameson\"     |[                             |[                         |[                |\n",
      "|                    |  \"Kate Mara\",                |  \"hostage\",              |  \"Crime\",       |\n",
      "|                    |  \"David Oyelowo\",            |  \"based on true story\",  |  \"Drama\",       |\n",
      "|                    |  \"Michael Kenneth Williams\"  |  \"murder\"                |  \"Thriller\"     |\n",
      "|                    |]                             |]                         |]                |\n",
      "--------------------------------------------------------------------------------------------------\n",
      "\n"
     ]
    }
   ],
   "source": [
    "top_three_df.select(\"director\", \"cast\", \"keywords\", \"genres\").show(5)"
   ]
  },
  {
   "cell_type": "code",
   "execution_count": 16,
   "metadata": {},
   "outputs": [
    {
     "name": "stdout",
     "output_type": "stream",
     "text": [
      "-----------------------------------------------------------------------------------------------------------------------------------------\n",
      "|\"ID\"    |\"ORIGINAL_TITLE\"                   |\"CAST\"                      |\"KEYWORDS\"             |\"DIRECTOR\"         |\"GENRES\"         |\n",
      "-----------------------------------------------------------------------------------------------------------------------------------------\n",
      "|44639   |Inside Job                         |[                           |[                      |\"charlesferguson\"  |[                |\n",
      "|        |                                   |  \"mattdamon\",              |  \"corruption\",        |                   |  \"documentary\"  |\n",
      "|        |                                   |  \"williamackman\",          |  \"capitalism\",        |                   |]                |\n",
      "|        |                                   |  \"barackobama\"             |  \"globalization\"      |                   |                 |\n",
      "|        |                                   |]                           |]                      |                   |                 |\n",
      "|301351  |We Are Your Friends                |[                           |[                      |\"maxjoseph\"        |[                |\n",
      "|        |                                   |  \"zacefron\",               |  \"dj\"                 |                   |  \"drama\",       |\n",
      "|        |                                   |  \"emilyratajkowski\",       |]                      |                   |  \"music\",       |\n",
      "|        |                                   |  \"wesbentley\"              |                       |                   |  \"romance\"      |\n",
      "|        |                                   |]                           |                       |                   |]                |\n",
      "|4816    |Ghost Dog: The Way of the Samurai  |[                           |[                      |\"jimjarmusch\"      |[                |\n",
      "|        |                                   |  \"forestwhitaker\",         |  \"deportation\",       |                   |  \"crime\",       |\n",
      "|        |                                   |  \"cliffgorman\",            |  \"hitman\",            |                   |  \"drama\"        |\n",
      "|        |                                   |  \"triciavessey\"            |  \"missionofmurder\"    |                   |]                |\n",
      "|        |                                   |]                           |]                      |                   |                 |\n",
      "|7873    |Harsh Times                        |[                           |[                      |\"davidayer\"        |[                |\n",
      "|        |                                   |  \"christianbale\",          |  \"watchingamovie\",    |                   |  \"crime\",       |\n",
      "|        |                                   |  \"freddyrodríguez\",        |  \"playingpool\",       |                   |  \"drama\",       |\n",
      "|        |                                   |  \"evalongoria\"             |  \"vinegar\"            |                   |  \"thriller\"     |\n",
      "|        |                                   |]                           |]                      |                   |]                |\n",
      "|331190  |Captive                            |[                           |[                      |\"jerryjameson\"     |[                |\n",
      "|        |                                   |  \"katemara\",               |  \"hostage\",           |                   |  \"crime\",       |\n",
      "|        |                                   |  \"davidoyelowo\",           |  \"basedontruestory\",  |                   |  \"drama\",       |\n",
      "|        |                                   |  \"michaelkennethwilliams\"  |  \"murder\"             |                   |  \"thriller\"     |\n",
      "|        |                                   |]                           |]                      |                   |]                |\n",
      "-----------------------------------------------------------------------------------------------------------------------------------------\n",
      "\n"
     ]
    }
   ],
   "source": [
    "def clean_data(col): \n",
    "    if isinstance(col, list):\n",
    "        return [i.replace(\" \", \"\").lower() for i in col]\n",
    "    else:\n",
    "        # Check if director exists. if not, return empty string\n",
    "        if isinstance(col, str):\n",
    "            return col.replace(\" \", \"\").lower()\n",
    "        else: \n",
    "            return ''\n",
    "        \n",
    "# Important: Register the UDF explicitly with the session \n",
    "clean_data_udf = session.udf.register(clean_data, \n",
    "                                      return_type=T.VariantType(), \n",
    "                                      input_types=[T.VariantType()])\n",
    "\n",
    "columns_to_clean = [\"cast\", \"keywords\", \"director\", \"genres\"]\n",
    "cleaned_df = top_three_df\n",
    "for col in columns_to_clean:\n",
    "    cleaned_df = cleaned_df.with_column(col, clean_data_udf(col))\n",
    "\n",
    "cleaned_df.select(\"id\", \"original_title\", \"cast\", \"keywords\", \"director\", \"genres\").show(5)\n",
    " \n",
    "# Apply clean_data function to the features. "
   ]
  },
  {
   "cell_type": "markdown",
   "metadata": {},
   "source": [
    "Now we create our \"metadata soup\", which is a string that contains all the metadata that we want to feed to our vectorizer (namely actors, director and keywords)."
   ]
  },
  {
   "cell_type": "code",
   "execution_count": 17,
   "metadata": {},
   "outputs": [
    {
     "name": "stdout",
     "output_type": "stream",
     "text": [
      "---------------------------------------------------------------------------------------------------\n",
      "|\"ID\"    |\"ORIGINAL_TITLE\"                   |\"SOUP\"                                              |\n",
      "---------------------------------------------------------------------------------------------------\n",
      "|44639   |Inside Job                         |corruption capitalism globalization mattdamon w...  |\n",
      "|301351  |We Are Your Friends                |dj zacefron emilyratajkowski wesbentley maxjose...  |\n",
      "|4816    |Ghost Dog: The Way of the Samurai  |deportation hitman missionofmurder forestwhitak...  |\n",
      "|7873    |Harsh Times                        |watchingamovie playingpool vinegar christianbal...  |\n",
      "|331190  |Captive                            |hostage basedontruestory murder katemara davido...  |\n",
      "---------------------------------------------------------------------------------------------------\n",
      "\n"
     ]
    }
   ],
   "source": [
    "def create_soup(keywords, cast, director,genres):\n",
    "    return ' '.join(keywords) + ' ' + ' '.join(cast) + ' ' + director + ' ' + ' '.join(genres)\n",
    "\n",
    "# register the UDF \n",
    "creat_soup_udf = session.udf.register(create_soup, \n",
    "                                      return_type=T.StringType(), \n",
    "                                      input_types=[T.VariantType(), \n",
    "                                                   T.VariantType(),\n",
    "                                                   T.VariantType(),\n",
    "                                                   T.VariantType()])\n",
    "\n",
    "final_df = cleaned_df\n",
    "final_df = cleaned_df.with_column(\"soup\", creat_soup_udf(F.col(\"keywords\"), \n",
    "                                                         F.col(\"cast\"), \n",
    "                                                         F.col(\"director\"), \n",
    "                                                         F.col(\"genres\")))\n",
    "\n",
    "final_df.select(\"id\", \"original_title\", \"soup\").show(5)"
   ]
  },
  {
   "cell_type": "markdown",
   "metadata": {},
   "source": [
    "The next steps are the same as what we did with out plot description based recommender. One important difference is that we use the CountVectorizer() instead of TF-IDF. This is because we do not want to downweight the presence of an actor/director if he or she has acted or directed in relatively more movies. It does not make much intuitive sense. "
   ]
  },
  {
   "cell_type": "code",
   "execution_count": 29,
   "metadata": {},
   "outputs": [
    {
     "name": "stdout",
     "output_type": "stream",
     "text": [
      "count_matrix is \n",
      "\n",
      "  (0, 2255)\t1\n",
      "  (0, 3710)\t1\n",
      "  (0, 10002)\t1\n",
      "  (0, 9443)\t1\n",
      "  (0, 11495)\t1\n",
      "  (0, 9841)\t1\n",
      "  (0, 4764)\t1\n",
      "  (0, 40)\t1\n",
      "  (0, 111)\t1\n",
      "  (0, 3421)\t1\n",
      "  (1, 40)\t1\n",
      "  (1, 111)\t1\n",
      "  (1, 3421)\t1\n",
      "  (1, 7961)\t1\n",
      "  (1, 2937)\t1\n",
      "  (1, 3348)\t1\n",
      "  (1, 5385)\t1\n",
      "  (1, 8041)\t1\n",
      "  (1, 5879)\t1\n",
      "  (1, 4005)\t1\n",
      "  (2, 40)\t1\n",
      "  (2, 111)\t1\n",
      "  (2, 10039)\t1\n",
      "  (2, 868)\t1\n",
      "  (2, 9625)\t1\n",
      "  :\t:\n",
      "  (4799, 9201)\t1\n",
      "  (4799, 3050)\t2\n",
      "  (4799, 5941)\t1\n",
      "  (4799, 6899)\t1\n",
      "  (4800, 2921)\t1\n",
      "  (4800, 2082)\t1\n",
      "  (4800, 9201)\t1\n",
      "  (4800, 2444)\t1\n",
      "  (4800, 7671)\t1\n",
      "  (4800, 6560)\t1\n",
      "  (4800, 3242)\t1\n",
      "  (4800, 6099)\t1\n",
      "  (4800, 2249)\t1\n",
      "  (4800, 9573)\t1\n",
      "  (4801, 2355)\t1\n",
      "  (4801, 1052)\t1\n",
      "  (4801, 3120)\t1\n",
      "  (4801, 2356)\t1\n",
      "  (4802, 7957)\t1\n",
      "  (4802, 2926)\t1\n",
      "  (4802, 2812)\t1\n",
      "  (4802, 1468)\t1\n",
      "  (4802, 2247)\t1\n",
      "  (4802, 2153)\t1\n",
      "  (4802, 1289)\t2\n"
     ]
    }
   ],
   "source": [
    "# Import CountVectorizer and create the count matrix \n",
    "from sklearn.feature_extraction.text import CountVectorizer\n",
    "\n",
    "count = CountVectorizer(stop_words=\"english\")\n",
    "final_pd = final_df.to_pandas()\n",
    "count_matrix = count.fit_transform(final_pd[\"SOUP\"])   # case sensitive\n",
    "print(\"count_matrix is \\n\")\n",
    "print(count_matrix)\n",
    "\n",
    "# Compute the Cosine Similarity matrix based on the count_matrix \n",
    "from sklearn.metrics.pairwise import cosine_similarity\n",
    "cosine_sim2 = cosine_similarity(count_matrix, count_matrix)\n",
    "\n",
    "indices = pd.Series(final_pd.index, index=final_pd[\"ORIGINAL_TITLE\"])    # Case sensitive "
   ]
  },
  {
   "cell_type": "code",
   "execution_count": 30,
   "metadata": {},
   "outputs": [
    {
     "name": "stdout",
     "output_type": "stream",
     "text": [
      "ORIGINAL_TITLE\n",
      "Avatar                                         0\n",
      "Pirates of the Caribbean: At World's End       1\n",
      "Spectre                                        2\n",
      "The Dark Knight Rises                          3\n",
      "John Carter                                    4\n",
      "                                            ... \n",
      "El Mariachi                                 4798\n",
      "Newlyweds                                   4799\n",
      "Signed, Sealed, Delivered                   4800\n",
      "Shanghai Calling                            4801\n",
      "My Date with Drew                           4802\n",
      "Length: 4803, dtype: int64\n"
     ]
    }
   ],
   "source": [
    "print(indices)"
   ]
  },
  {
   "cell_type": "code",
   "execution_count": 31,
   "metadata": {},
   "outputs": [
    {
     "name": "stdout",
     "output_type": "stream",
     "text": [
      "[[1.  0.3 0.2 ... 0.  0.  0. ]\n",
      " [0.3 1.  0.2 ... 0.  0.  0. ]\n",
      " [0.2 0.2 1.  ... 0.  0.  0. ]\n",
      " ...\n",
      " [0.  0.  0.  ... 1.  0.  0. ]\n",
      " [0.  0.  0.  ... 0.  1.  0. ]\n",
      " [0.  0.  0.  ... 0.  0.  1. ]]\n"
     ]
    }
   ],
   "source": [
    "print(cosine_sim2)"
   ]
  },
  {
   "cell_type": "code",
   "execution_count": 32,
   "metadata": {},
   "outputs": [],
   "source": [
    "def get_recommendation_cosine_sim(title, cosine_sim=cosine_sim2): \n",
    "    # Get the index of the movie given its title \n",
    "    idx = indices[title]\n",
    "    print(\"title is: {} and idx is: {}\".format(title, idx))\n",
    "    # Get the list of cosine similarity scores \n",
    "    sim_scores = list(enumerate(cosine_sim[idx]))\n",
    "    # Sort based on sim_score \n",
    "    sim_scores = sorted(sim_scores, key=lambda x: x[1], reverse=True)\n",
    "    # Get the scores of the top 10 most similar movies \n",
    "    sim_scores = sim_scores[1: 11]\n",
    "    # Get the movie indices \n",
    "    sim_scores = [i[0] for i in sim_scores]\n",
    "    return final_pd[\"ORIGINAL_TITLE\"].iloc[sim_scores]"
   ]
  },
  {
   "cell_type": "code",
   "execution_count": 33,
   "metadata": {},
   "outputs": [
    {
     "name": "stdout",
     "output_type": "stream",
     "text": [
      "title is: Fight Club and idx is: 662\n"
     ]
    },
    {
     "data": {
      "text/plain": [
       "100     The Curious Case of Benjamin Button\n",
       "2058                                  Stone\n",
       "928                               Moneyball\n",
       "1161                     The Social Network\n",
       "2133                                  Babel\n",
       "4564               Straight Out of Brooklyn\n",
       "1446                       The Tree of Life\n",
       "2276                       The Painted Veil\n",
       "2838                 The Fault in Our Stars\n",
       "3043                       End of the Spear\n",
       "Name: ORIGINAL_TITLE, dtype: object"
      ]
     },
     "execution_count": 33,
     "metadata": {},
     "output_type": "execute_result"
    }
   ],
   "source": [
    "get_recommendation_cosine_sim(\"Fight Club\", cosine_sim2)"
   ]
  },
  {
   "cell_type": "code",
   "execution_count": 35,
   "metadata": {},
   "outputs": [
    {
     "name": "stdout",
     "output_type": "stream",
     "text": [
      "title is: The Godfather and idx is: 3337\n"
     ]
    },
    {
     "data": {
      "text/plain": [
       "867      The Godfather: Part III\n",
       "2731      The Godfather: Part II\n",
       "4638    Amidst the Devil's Wings\n",
       "2649           The Son of No One\n",
       "1525              Apocalypse Now\n",
       "1018             The Cotton Club\n",
       "1170     The Talented Mr. Ripley\n",
       "1209               The Rainmaker\n",
       "1394               Donnie Brasco\n",
       "1850                    Scarface\n",
       "Name: ORIGINAL_TITLE, dtype: object"
      ]
     },
     "execution_count": 35,
     "metadata": {},
     "output_type": "execute_result"
    }
   ],
   "source": [
    "get_recommendation_cosine_sim(\"The Godfather\", cosine_sim2)"
   ]
  },
  {
   "cell_type": "markdown",
   "metadata": {},
   "source": [
    "# Collaborative Filtering \n",
    "\n",
    "The content based engine suffers from some severe limitations. It is only capable of suggesting movies which are close to certain movies. That is, it is not capable of capturing tastes and providing recommendations across genres. \n",
    "Also, the engine that is built is not really personal in that it does not capture the personal tastes and biases of a user. Anyone querying our engine for recommendations based on a movie will receive the same recommendations for that movie, regardless of who she/he is. \n",
    "\n",
    "Then we will use a technique called Collaborative Filtering to make recommendations to Movie Watchers. It is basically two types: \n",
    "\n",
    "* User based filtering - These systems recommend products to a user that similar users have liked. For measuring the similarity between two users we can either use pearson correlation or cosine similarity. \n",
    "Although computing user-based CF is very simple, it suffers from several problems. One main issus is that users' preference can change over time. It indicates that precomputing the matrix based on their neighboring users may lead to bad performance. To tackle this problem, we can apply item-based CF. \n",
    "\n",
    "* Item Based Collaborative Filtering - Instead of measuring the similarity between uses, the item-based CF recommends items based on their similarity with the items that the target user rated. Likewise, the similarity can be computed with Pearson Correlation or Cosine Similarity. \n",
    "It successfully avoids the problem posed by dynamic user preference as item-based CF is more static. However, several problems remain for this method. \n",
    "First, the main issue is scalability. The computation grows with both the customer and the product. The worse case complexity is O(mn) with m users and n items. In addition, sparsity is another concern. In extreme cases, we can have millions of users and the similarity between two fairly different movies could be very high simply because they have similar rank for the only user who marked them both. \n",
    "\n",
    "## Single Value Decomposition\n",
    "\n",
    "One way to handle the scalability and sparsity issue created by CF is to leverage a latent factor model to capture the similarity between users and items. Essentially, we want to turn the recommendation problem into an optimization problem. We can view it as how good we are in predicting the rating for items given a user. One common metric is Root Mean Square Error (RMSE). The lower the RMSE, the better the performance.\n",
    "\n",
    "Now talking about latent factor you might be wondering what is it ?It is a broad idea which describes a property or concept that a user or an item have. For instance, for music, latent factor can refer to the genre that the music belongs to. SVD decreases the dimension of the utility matrix by extracting its latent factors. Essentially, we map each user and each item into a latent space with dimension r. Therefore, it helps us better understand the relationship between users and items as they become directly comparable.\n",
    "\n",
    "Now enough said , let’s see how to implement this. Since the dataset we used before did not have userId(which is necessary for collaborative filtering) let’s load another dataset. We’ll be using the Surprise library to implement SVD. So our first step is to install the Surprise library by using the command !pip install surprise .\n",
    "\n",
    "## The Surprise library (Simple Python Recommendation System Engine) \n",
    "\n",
    "is a Python scikit designed for building and evaluating recommender systems. It focuses on collaborative filtering methods and provides tools to simplify the experimentation process for researchers and practitioners.\n",
    "\n",
    "### Key Features\n",
    "\n",
    "* 1. Collaborative Filtering Techniques:\n",
    "\n",
    "  - Implements user-based and item-based collaborative filtering.\n",
    "  - Offers matrix factorization techniques such as SVD, PMF, and SVD++.\n",
    "\n",
    "* 2. Predefined and Custom Datasets:\n",
    "\n",
    "  - Supports popular datasets like MovieLens.\n",
    "  - Enables easy loading of custom datasets in a variety of formats.\n",
    "\n",
    "* 3. Metrics for Evaluation:\n",
    "\n",
    "  - Provides evaluation metrics like RMSE, MAE, Precision@K, and Recall@K.\n",
    "  - Built-in cross-validation methods for robust model evaluation.\n",
    "\n",
    "* 4. Extensibility:\n",
    "\n",
    "  - Allows customization of algorithms and metrics.\n",
    "  - Facilitates experimentation with new algorithms by extending existing classes.\n",
    "\n",
    "* 5. Ease of Use:\n",
    "\n",
    "  - Simple APIs for dataset splitting, training, and evaluation.\n",
    "  - Ready-to-use methods for testing and comparing models.\n",
    "\n",
    "### Core Components\n",
    "* 1. Datasets\n",
    "  - Dataset.load_builtin(name): Load built-in datasets (e.g., ml-100k).\n",
    "  - Dataset.load_from_file(file_path, reader): Load custom datasets.\n",
    "\n",
    "* 2. Algorithms\n",
    "  - Supported algorithms:\n",
    "     - Baseline Algorithms (e.g., BaselineOnly).\n",
    "     - Matrix Factorization (e.g., SVD, SVD++).\n",
    "     - Neighborhood-Based Approaches (e.g., KNNBasic, KNNWithMeans).\n",
    "     - Normal Predictors (Random predictions as a baseline).\n",
    "\n",
    "* 3. Training and Testing\n",
    "   - train_test_split: Split the data into training and testing sets.\n",
    "   - cross_validate: Perform k-fold cross-validation.\n",
    "\n",
    "* 4. Evaluation Metrics\n",
    "  - Root Mean Square Error (RMSE).\n",
    "  - Mean Absolute Error (MAE).\n",
    "  - Precision@K and Recall@K (using accuracy module).\n",
    "\n",
    "* 5. Prediction\n",
    "   - Generate predictions for user-item pairs using predict()."
   ]
  },
  {
   "cell_type": "code",
   "execution_count": 51,
   "metadata": {},
   "outputs": [
    {
     "data": {
      "text/html": [
       "<div>\n",
       "<style scoped>\n",
       "    .dataframe tbody tr th:only-of-type {\n",
       "        vertical-align: middle;\n",
       "    }\n",
       "\n",
       "    .dataframe tbody tr th {\n",
       "        vertical-align: top;\n",
       "    }\n",
       "\n",
       "    .dataframe thead th {\n",
       "        text-align: right;\n",
       "    }\n",
       "</style>\n",
       "<table border=\"1\" class=\"dataframe\">\n",
       "  <thead>\n",
       "    <tr style=\"text-align: right;\">\n",
       "      <th></th>\n",
       "      <th>userId</th>\n",
       "      <th>movieId</th>\n",
       "      <th>rating</th>\n",
       "      <th>timestamp</th>\n",
       "    </tr>\n",
       "  </thead>\n",
       "  <tbody>\n",
       "    <tr>\n",
       "      <th>0</th>\n",
       "      <td>1</td>\n",
       "      <td>1</td>\n",
       "      <td>4.0</td>\n",
       "      <td>964982703</td>\n",
       "    </tr>\n",
       "    <tr>\n",
       "      <th>1</th>\n",
       "      <td>1</td>\n",
       "      <td>3</td>\n",
       "      <td>4.0</td>\n",
       "      <td>964981247</td>\n",
       "    </tr>\n",
       "    <tr>\n",
       "      <th>2</th>\n",
       "      <td>1</td>\n",
       "      <td>6</td>\n",
       "      <td>4.0</td>\n",
       "      <td>964982224</td>\n",
       "    </tr>\n",
       "    <tr>\n",
       "      <th>3</th>\n",
       "      <td>1</td>\n",
       "      <td>47</td>\n",
       "      <td>5.0</td>\n",
       "      <td>964983815</td>\n",
       "    </tr>\n",
       "    <tr>\n",
       "      <th>4</th>\n",
       "      <td>1</td>\n",
       "      <td>50</td>\n",
       "      <td>5.0</td>\n",
       "      <td>964982931</td>\n",
       "    </tr>\n",
       "  </tbody>\n",
       "</table>\n",
       "</div>"
      ],
      "text/plain": [
       "   userId  movieId  rating  timestamp\n",
       "0       1        1     4.0  964982703\n",
       "1       1        3     4.0  964981247\n",
       "2       1        6     4.0  964982224\n",
       "3       1       47     5.0  964983815\n",
       "4       1       50     5.0  964982931"
      ]
     },
     "execution_count": 51,
     "metadata": {},
     "output_type": "execute_result"
    }
   ],
   "source": [
    "from surprise import Reader, Dataset, SVD, accuracy\n",
    "from surprise.model_selection import cross_validate, KFold\n",
    "\n",
    "\n",
    "reader = Reader()\n",
    "ratings = pd.read_csv(\"data/small/ratings.csv\")\n",
    "\n",
    "ratings.head()"
   ]
  },
  {
   "cell_type": "code",
   "execution_count": 53,
   "metadata": {},
   "outputs": [
    {
     "name": "stdout",
     "output_type": "stream",
     "text": [
      "RMSE: 0.8802\n",
      "RMSE: 0.8843\n",
      "RMSE: 0.8808\n"
     ]
    }
   ],
   "source": [
    "data = Dataset.load_from_df(ratings[[\"userId\", \"movieId\", \"rating\"]], reader)\n",
    "# Define a cross-validation dataset \n",
    "kf = KFold(n_splits=3)\n",
    "\n",
    "# Use SVD \n",
    "svd = SVD()\n",
    "\n",
    "# Run 10-fold cross-validation and then print results \n",
    "#cross_validate(svd, data, measures=['RMSE', 'MAE'], cv=10, verbose=True)\n",
    "\n",
    "for trainset, testset in kf.split(data):\n",
    "    # Train and test model \n",
    "    svd.fit(trainset)\n",
    "    predictions = svd.test(testset)\n",
    "\n",
    "    # Compute and print Root Mean Squared Error \n",
    "    accuracy.rmse(predictions, verbose=True)"
   ]
  },
  {
   "cell_type": "code",
   "execution_count": 43,
   "metadata": {},
   "outputs": [
    {
     "data": {
      "text/plain": [
       "<surprise.prediction_algorithms.matrix_factorization.SVD at 0x30dbecd00>"
      ]
     },
     "execution_count": 43,
     "metadata": {},
     "output_type": "execute_result"
    }
   ],
   "source": [
    "train_set = data.build_full_trainset()\n",
    "svd.fit(train_set)"
   ]
  },
  {
   "cell_type": "code",
   "execution_count": 44,
   "metadata": {},
   "outputs": [
    {
     "data": {
      "text/html": [
       "<div>\n",
       "<style scoped>\n",
       "    .dataframe tbody tr th:only-of-type {\n",
       "        vertical-align: middle;\n",
       "    }\n",
       "\n",
       "    .dataframe tbody tr th {\n",
       "        vertical-align: top;\n",
       "    }\n",
       "\n",
       "    .dataframe thead th {\n",
       "        text-align: right;\n",
       "    }\n",
       "</style>\n",
       "<table border=\"1\" class=\"dataframe\">\n",
       "  <thead>\n",
       "    <tr style=\"text-align: right;\">\n",
       "      <th></th>\n",
       "      <th>userId</th>\n",
       "      <th>movieId</th>\n",
       "      <th>rating</th>\n",
       "      <th>timestamp</th>\n",
       "    </tr>\n",
       "  </thead>\n",
       "  <tbody>\n",
       "    <tr>\n",
       "      <th>0</th>\n",
       "      <td>1</td>\n",
       "      <td>1</td>\n",
       "      <td>4.0</td>\n",
       "      <td>964982703</td>\n",
       "    </tr>\n",
       "    <tr>\n",
       "      <th>1</th>\n",
       "      <td>1</td>\n",
       "      <td>3</td>\n",
       "      <td>4.0</td>\n",
       "      <td>964981247</td>\n",
       "    </tr>\n",
       "    <tr>\n",
       "      <th>2</th>\n",
       "      <td>1</td>\n",
       "      <td>6</td>\n",
       "      <td>4.0</td>\n",
       "      <td>964982224</td>\n",
       "    </tr>\n",
       "    <tr>\n",
       "      <th>3</th>\n",
       "      <td>1</td>\n",
       "      <td>47</td>\n",
       "      <td>5.0</td>\n",
       "      <td>964983815</td>\n",
       "    </tr>\n",
       "    <tr>\n",
       "      <th>4</th>\n",
       "      <td>1</td>\n",
       "      <td>50</td>\n",
       "      <td>5.0</td>\n",
       "      <td>964982931</td>\n",
       "    </tr>\n",
       "    <tr>\n",
       "      <th>...</th>\n",
       "      <td>...</td>\n",
       "      <td>...</td>\n",
       "      <td>...</td>\n",
       "      <td>...</td>\n",
       "    </tr>\n",
       "    <tr>\n",
       "      <th>227</th>\n",
       "      <td>1</td>\n",
       "      <td>3744</td>\n",
       "      <td>4.0</td>\n",
       "      <td>964980694</td>\n",
       "    </tr>\n",
       "    <tr>\n",
       "      <th>228</th>\n",
       "      <td>1</td>\n",
       "      <td>3793</td>\n",
       "      <td>5.0</td>\n",
       "      <td>964981855</td>\n",
       "    </tr>\n",
       "    <tr>\n",
       "      <th>229</th>\n",
       "      <td>1</td>\n",
       "      <td>3809</td>\n",
       "      <td>4.0</td>\n",
       "      <td>964981220</td>\n",
       "    </tr>\n",
       "    <tr>\n",
       "      <th>230</th>\n",
       "      <td>1</td>\n",
       "      <td>4006</td>\n",
       "      <td>4.0</td>\n",
       "      <td>964982903</td>\n",
       "    </tr>\n",
       "    <tr>\n",
       "      <th>231</th>\n",
       "      <td>1</td>\n",
       "      <td>5060</td>\n",
       "      <td>5.0</td>\n",
       "      <td>964984002</td>\n",
       "    </tr>\n",
       "  </tbody>\n",
       "</table>\n",
       "<p>232 rows × 4 columns</p>\n",
       "</div>"
      ],
      "text/plain": [
       "     userId  movieId  rating  timestamp\n",
       "0         1        1     4.0  964982703\n",
       "1         1        3     4.0  964981247\n",
       "2         1        6     4.0  964982224\n",
       "3         1       47     5.0  964983815\n",
       "4         1       50     5.0  964982931\n",
       "..      ...      ...     ...        ...\n",
       "227       1     3744     4.0  964980694\n",
       "228       1     3793     5.0  964981855\n",
       "229       1     3809     4.0  964981220\n",
       "230       1     4006     4.0  964982903\n",
       "231       1     5060     5.0  964984002\n",
       "\n",
       "[232 rows x 4 columns]"
      ]
     },
     "execution_count": 44,
     "metadata": {},
     "output_type": "execute_result"
    }
   ],
   "source": [
    "ratings[ratings['userId'] == 1]"
   ]
  },
  {
   "cell_type": "code",
   "execution_count": 48,
   "metadata": {},
   "outputs": [
    {
     "data": {
      "text/plain": [
       "Prediction(uid=1, iid=5060, r_ui=5.0, est=5, details={'was_impossible': False})"
      ]
     },
     "execution_count": 48,
     "metadata": {},
     "output_type": "execute_result"
    }
   ],
   "source": [
    "# Check the model predictions: (userId, movieId, pred_rating) \n",
    "svd.predict(1, 5060, 5.0, True)"
   ]
  },
  {
   "cell_type": "code",
   "execution_count": 58,
   "metadata": {},
   "outputs": [
    {
     "name": "stdout",
     "output_type": "stream",
     "text": [
      "Computing the msd similarity matrix...\n",
      "Done computing similarity matrix.\n",
      "user: 1          item: 5060       r_ui = 5.00   est = 4.05   {'actual_k': 40, 'was_impossible': False}\n"
     ]
    }
   ],
   "source": [
    "from surprise import KNNBasic\n",
    "\n",
    "knn_model = KNNBasic()\n",
    "knn_model.fit(train_set)\n",
    "\n",
    "pred = knn_model.predict(1, 5060, 5.0, True)\n",
    "\n",
    "print(pred)"
   ]
  },
  {
   "cell_type": "code",
   "execution_count": null,
   "metadata": {},
   "outputs": [],
   "source": []
  }
 ],
 "metadata": {
  "kernelspec": {
   "display_name": "sf-ml-env",
   "language": "python",
   "name": "python3"
  },
  "language_info": {
   "codemirror_mode": {
    "name": "ipython",
    "version": 3
   },
   "file_extension": ".py",
   "mimetype": "text/x-python",
   "name": "python",
   "nbconvert_exporter": "python",
   "pygments_lexer": "ipython3",
   "version": "3.9.20"
  }
 },
 "nbformat": 4,
 "nbformat_minor": 2
}
